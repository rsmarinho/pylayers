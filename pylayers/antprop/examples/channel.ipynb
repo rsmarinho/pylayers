{
  "nbformat_minor": 0, 
  "cells": [
    {
      "source": "# Ctilde", 
      "cell_type": "markdown", 
      "metadata": {}
    }, 
    {
      "source": "%matplotlib inline", 
      "cell_type": "code", 
      "metadata": {}, 
      "execution_count": null, 
      "outputs": []
    }, 
    {
      "source": "from pylayers.antprop.channel import *\nfrom pylayers.antprop.antenna import *", 
      "cell_type": "code", 
      "metadata": {}, 
      "execution_count": null, 
      "outputs": []
    }, 
    {
      "source": "$\\tilde{\\mathbf{C}}$", 
      "cell_type": "markdown", 
      "metadata": {}
    }, 
    {
      "source": "C=Ctilde()", 
      "cell_type": "code", 
      "metadata": {}, 
      "execution_count": null, 
      "outputs": []
    }, 
    {
      "source": "fGHz=np.r_[2.41,2.42]", 
      "cell_type": "code", 
      "metadata": {}, 
      "execution_count": null, 
      "outputs": []
    }, 
    {
      "source": "pa = np.r_[0.018,-2.75,0.98]\npb = np.r_[0.019,-2.75,0.98]\nC.los(pa=pa,pb=pb,fGHz=fGHz)", 
      "cell_type": "code", 
      "metadata": {}, 
      "execution_count": null, 
      "outputs": []
    }, 
    {
      "source": "C", 
      "cell_type": "code", 
      "metadata": {}, 
      "execution_count": null, 
      "outputs": [
        {
          "output_type": "execute_result", 
          "data": {
            "text/plain": "Ctilde\n---------\n(2,)\nNray : 1\nfmin(GHz) : 2.41\nfmax(GHz): 2.42\nNfreq : 2"
          }, 
          "execution_count": 6, 
          "metadata": {}
        }
      ]
    }, 
    {
      "source": "print C.pa\nprint C.pb", 
      "cell_type": "code", 
      "metadata": {}, 
      "execution_count": null, 
      "outputs": [
        {
          "output_type": "execute_result", 
          "data": {
            "text/plain": "[ 0.018 -2.75   0.98 ]\n[ 0.019 -2.75   0.98 ]"
          }, 
          "execution_count": 7, 
          "metadata": {}
        }
      ]
    }, 
    {
      "source": "print C.tang\nprint C.rang", 
      "cell_type": "code", 
      "metadata": {}, 
      "execution_count": null, 
      "outputs": [
        {
          "output_type": "execute_result", 
          "data": {
            "text/plain": "[[ 1.57079633  0.        ]]\n[[ 1.57079633 -3.14159265]]"
          }, 
          "execution_count": 8, 
          "metadata": {}
        }
      ]
    }, 
    {
      "source": "# Antenna selection", 
      "cell_type": "markdown", 
      "metadata": {}
    }, 
    {
      "source": "Aa = Antenna('Omni')\nAb = Antenna('3GPP_BackCenter_7.sh3')", 
      "cell_type": "code", 
      "metadata": {}, 
      "execution_count": null, 
      "outputs": []
    }, 
    {
      "source": "Aa.polar()", 
      "cell_type": "code", 
      "metadata": {}, 
      "execution_count": null, 
      "outputs": [
        {
          "output_type": "execute_result", 
          "data": {
            "text/plain": "(<matplotlib.figure.Figure at 0x7f3b71c65bd0>,\n <matplotlib.projections.polar.PolarAxes at 0x7f3b71dda8d0>)"
          }, 
          "execution_count": 10, 
          "metadata": {}
        }
      ]
    }, 
    {
      "source": "Ab.polar(thd=90)", 
      "cell_type": "code", 
      "metadata": {}, 
      "execution_count": null, 
      "outputs": [
        {
          "output_type": "execute_result", 
          "data": {
            "text/plain": "(<matplotlib.figure.Figure at 0x7f3b73c7cad0>,\n <matplotlib.projections.polar.PolarAxes at 0x7f3b71d07e50>)"
          }, 
          "execution_count": 11, 
          "metadata": {}
        }
      ]
    }, 
    {
      "source": "Ta = np.eye(3)\nTb = np.array([[-1,0,0],[0,-1,0],[0,0,1]])", 
      "cell_type": "code", 
      "metadata": {}, 
      "execution_count": null, 
      "outputs": []
    }, 
    {
      "source": "Tb", 
      "cell_type": "code", 
      "metadata": {}, 
      "execution_count": null, 
      "outputs": [
        {
          "output_type": "execute_result", 
          "data": {
            "text/plain": "array([[-1,  0,  0],\n       [ 0, -1,  0],\n       [ 0,  0,  1]])"
          }, 
          "execution_count": 13, 
          "metadata": {}
        }
      ]
    }, 
    {
      "source": "C.tang.shape", 
      "cell_type": "code", 
      "metadata": {}, 
      "execution_count": null, 
      "outputs": [
        {
          "output_type": "execute_result", 
          "data": {
            "text/plain": "(1, 2)"
          }, 
          "execution_count": 14, 
          "metadata": {}
        }
      ]
    }, 
    {
      "source": "Cl=C.locbas(Tt=Ta,Tr=Tb)", 
      "cell_type": "code", 
      "metadata": {}, 
      "execution_count": null, 
      "outputs": []
    }, 
    {
      "source": "H=Cl.prop2tran(a=Aa,b=Ab)", 
      "cell_type": "code", 
      "metadata": {}, 
      "execution_count": null, 
      "outputs": []
    }, 
    {
      "source": "print H.Gap\nprint H.Gat\nprint H.Gbp\nprint H.Gbt", 
      "cell_type": "code", 
      "metadata": {}, 
      "execution_count": null, 
      "outputs": [
        {
          "output_type": "execute_result", 
          "data": {
            "text/plain": "[-inf]\n[ 0.]\n[-18.13467201+0.j]\n[-7.86649093+0.j]"
          }, 
          "execution_count": 17, 
          "metadata": {}
        }
      ]
    }, 
    {
      "source": "H.ak", 
      "cell_type": "code", 
      "metadata": {}, 
      "execution_count": null, 
      "outputs": [
        {
          "output_type": "execute_result", 
          "data": {
            "text/plain": "array([ 3.9922806])"
          }, 
          "execution_count": 18, 
          "metadata": {}
        }
      ]
    }, 
    {
      "source": "3/0.3", 
      "cell_type": "code", 
      "metadata": {}, 
      "execution_count": null, 
      "outputs": [
        {
          "output_type": "execute_result", 
          "data": {
            "text/plain": "10.0"
          }, 
          "execution_count": 19, 
          "metadata": {}
        }
      ]
    }, 
    {
      "source": "C.tauk", 
      "cell_type": "code", 
      "metadata": {}, 
      "execution_count": null, 
      "outputs": [
        {
          "output_type": "execute_result", 
          "data": {
            "text/plain": "array([ 0.00333333])"
          }, 
          "execution_count": 20, 
          "metadata": {}
        }
      ]
    }, 
    {
      "source": "L=32.4+20*np.log10(2.4)+20*np.log10(d)", 
      "cell_type": "code", 
      "metadata": {}, 
      "execution_count": null, 
      "outputs": []
    }, 
    {
      "source": "print L", 
      "cell_type": "code", 
      "metadata": {}, 
      "execution_count": null, 
      "outputs": [
        {
          "output_type": "execute_result", 
          "data": {
            "text/plain": "[ 49.54664993]"
          }, 
          "execution_count": 22, 
          "metadata": {}
        }
      ]
    }, 
    {
      "source": "ak=H.ak[0]", 
      "cell_type": "code", 
      "metadata": {}, 
      "execution_count": null, 
      "outputs": []
    }, 
    {
      "source": "20*np.log10(ak)", 
      "cell_type": "code", 
      "metadata": {}, 
      "execution_count": null, 
      "outputs": [
        {
          "output_type": "execute_result", 
          "data": {
            "text/plain": "12.024421158892364"
          }, 
          "execution_count": 24, 
          "metadata": {}
        }
      ]
    }, 
    {
      "source": "H", 
      "cell_type": "code", 
      "metadata": {}, 
      "execution_count": null, 
      "outputs": [
        {
          "output_type": "execute_result", 
          "data": {
            "text/plain": "freq : 2.415 2.42 2\nshape  : (1, 2)\ntau (min, max) : 0.00333333333333 0.00333333333333\ndist :0.001 0.001\nFriis factor -j c/(4 pi f) has been applied"
          }, 
          "execution_count": 25, 
          "metadata": {}
        }
      ]
    }, 
    {
      "source": "H.y", 
      "cell_type": "code", 
      "metadata": {}, 
      "execution_count": null, 
      "outputs": [
        {
          "output_type": "execute_result", 
          "data": {
            "text/plain": "array([[  2.75228375e-15-3.99640698j,   2.74659722e-15-3.98814994j]])"
          }, 
          "execution_count": 26, 
          "metadata": {}
        }
      ]
    }, 
    {
      "source": "ak", 
      "cell_type": "code", 
      "metadata": {}, 
      "execution_count": null, 
      "outputs": [
        {
          "output_type": "execute_result", 
          "data": {
            "text/plain": "3.9922805962363754"
          }, 
          "execution_count": 27, 
          "metadata": {}
        }
      ]
    }, 
    {
      "source": "H.Fat.y", 
      "cell_type": "code", 
      "metadata": {}, 
      "execution_count": null, 
      "outputs": [
        {
          "output_type": "execute_result", 
          "data": {
            "text/plain": "array([[ 1.,  1.,  1.,  1.,  1.,  1.,  1.,  1.,  1.,  1.,  1.,  1.,  1.,\n         1.,  1.,  1.,  1.,  1.,  1.,  1.,  1.,  1.,  1.,  1.,  1.,  1.,\n         1.,  1.,  1.,  1.,  1.,  1.,  1.,  1.,  1.,  1.,  1.,  1.,  1.,\n         1.,  1.,  1.,  1.,  1.,  1.,  1.,  1.,  1.,  1.,  1.,  1.,  1.,\n         1.,  1.,  1.,  1.,  1.,  1.,  1.,  1.,  1.,  1.,  1.,  1.,  1.,\n         1.,  1.,  1.,  1.,  1.,  1.,  1.,  1.,  1.,  1.,  1.,  1.,  1.,\n         1.,  1.,  1.,  1.,  1.,  1.,  1.,  1.,  1.,  1.,  1.,  1.,  1.,\n         1.,  1.,  1.,  1.,  1.,  1.,  1.,  1.,  1.,  1.,  1.,  1.,  1.]])"
          }, 
          "execution_count": 28, 
          "metadata": {}
        }
      ]
    }, 
    {
      "source": "H.Fap.y", 
      "cell_type": "code", 
      "metadata": {}, 
      "execution_count": null, 
      "outputs": [
        {
          "output_type": "execute_result", 
          "data": {
            "text/plain": "array([[ 0.,  0.,  0.,  0.,  0.,  0.,  0.,  0.,  0.,  0.,  0.,  0.,  0.,\n         0.,  0.,  0.,  0.,  0.,  0.,  0.,  0.,  0.,  0.,  0.,  0.,  0.,\n         0.,  0.,  0.,  0.,  0.,  0.,  0.,  0.,  0.,  0.,  0.,  0.,  0.,\n         0.,  0.,  0.,  0.,  0.,  0.,  0.,  0.,  0.,  0.,  0.,  0.,  0.,\n         0.,  0.,  0.,  0.,  0.,  0.,  0.,  0.,  0.,  0.,  0.,  0.,  0.,\n         0.,  0.,  0.,  0.,  0.,  0.,  0.,  0.,  0.,  0.,  0.,  0.,  0.,\n         0.,  0.,  0.,  0.,  0.,  0.,  0.,  0.,  0.,  0.,  0.,  0.,  0.,\n         0.,  0.,  0.,  0.,  0.,  0.,  0.,  0.,  0.,  0.,  0.,  0.,  0.]])"
          }, 
          "execution_count": 29, 
          "metadata": {}
        }
      ]
    }, 
    {
      "source": "H.Fbt.y", 
      "cell_type": "code", 
      "metadata": {}, 
      "execution_count": null, 
      "outputs": [
        {
          "output_type": "execute_result", 
          "data": {
            "text/plain": "array([[ 0.40427367 +2.78419052e-16j,  0.40427367 +2.78419052e-16j,\n         0.40427367 +2.78419052e-16j,  0.40427367 +2.78419052e-16j,\n         0.40427367 +2.78419052e-16j,  0.40427367 +2.78419052e-16j,\n         0.40427367 +2.78419052e-16j,  0.40427367 +2.78419052e-16j,\n         0.40427367 +2.78419052e-16j,  0.40427367 +2.78419052e-16j,\n         0.40427367 +2.78419052e-16j,  0.40427367 +2.78419052e-16j,\n         0.40427367 +2.78419052e-16j,  0.40427367 +2.78419052e-16j,\n         0.40427367 +2.78419052e-16j,  0.40427367 +2.78419052e-16j]])"
          }, 
          "execution_count": 30, 
          "metadata": {}
        }
      ]
    }, 
    {
      "source": "C.Ctt.y", 
      "cell_type": "code", 
      "metadata": {}, 
      "execution_count": null, 
      "outputs": [
        {
          "output_type": "execute_result", 
          "data": {
            "text/plain": "array([[1000.+0.j, 1000.+0.j]])"
          }, 
          "execution_count": 31, 
          "metadata": {}
        }
      ]
    }, 
    {
      "source": "C.Ctp.y", 
      "cell_type": "code", 
      "metadata": {}, 
      "execution_count": null, 
      "outputs": [
        {
          "output_type": "execute_result", 
          "data": {
            "text/plain": "array([[ 0.+0.j,  0.+0.j]])"
          }, 
          "execution_count": 32, 
          "metadata": {}
        }
      ]
    }, 
    {
      "source": "H.alpha.y", 
      "cell_type": "code", 
      "metadata": {}, 
      "execution_count": null, 
      "outputs": [
        {
          "output_type": "execute_result", 
          "data": {
            "text/plain": "array([[ 404.27366657 +2.78419052e-13j,  404.27366657 +2.78419052e-13j]])"
          }, 
          "execution_count": 33, 
          "metadata": {}
        }
      ]
    }, 
    {
      "source": "H.y", 
      "cell_type": "code", 
      "metadata": {}, 
      "execution_count": null, 
      "outputs": [
        {
          "output_type": "execute_result", 
          "data": {
            "text/plain": "array([[  2.75228375e-15-3.99640698j,   2.74659722e-15-3.98814994j]])"
          }, 
          "execution_count": 34, 
          "metadata": {}
        }
      ]
    }, 
    {
      "source": "H.isFriis", 
      "cell_type": "code", 
      "metadata": {}, 
      "execution_count": null, 
      "outputs": [
        {
          "output_type": "execute_result", 
          "data": {
            "text/plain": "True"
          }, 
          "execution_count": 35, 
          "metadata": {}
        }
      ]
    }, 
    {
      "source": "0.3/(4*np.pi*H.x)", 
      "cell_type": "code", 
      "metadata": {}, 
      "execution_count": null, 
      "outputs": [
        {
          "output_type": "execute_result", 
          "data": {
            "text/plain": "array([ 0.0098854 ,  0.00986498])"
          }, 
          "execution_count": 36, 
          "metadata": {}
        }
      ]
    }, 
    {
      "source": "", 
      "cell_type": "code", 
      "metadata": {}, 
      "execution_count": null, 
      "outputs": []
    }, 
    {
      "source": "", 
      "cell_type": "code", 
      "metadata": {}, 
      "execution_count": null, 
      "outputs": []
    }, 
    {
      "source": "", 
      "cell_type": "code", 
      "metadata": {}, 
      "execution_count": null, 
      "outputs": []
    }
  ], 
  "nbformat": 4, 
  "metadata": {}
}