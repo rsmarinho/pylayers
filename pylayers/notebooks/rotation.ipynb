{
 "metadata": {
  "name": "",
  "signature": "sha256:dce8a001661d20d3655238ad27554a2c979c0e8181aaea3019205b274841ec95"
 },
 "nbformat": 3,
 "nbformat_minor": 0,
 "worksheets": [
  {
   "cells": [
    {
     "cell_type": "code",
     "collapsed": false,
     "input": [
      "from pylayers.antprop.rays import *\n",
      "from pylayers.gis.layout import *\n",
      "from pylayers.antprop.signature import *\n",
      "import pylayers.signal.bsignal as bs\n",
      "import pylayers.signal.waveform as wvf \n",
      "from pylayers.simul.simulem import *\n",
      "import matplotlib.pyplot as plt \n",
      "import time\n",
      "import copy\n",
      "import pylayers.util.geomutil as geu\n",
      "\n",
      "print \"=======================\"\n",
      "print \" start test_rays.py (Ray Tracing numpy) \"\n",
      "print \"=======================\"\n",
      "S = Simul()\n",
      "filestr = 'defstr'\n",
      "S.layout(filestr+'.ini','matDB.ini','slabDB.ini')\n",
      "S.L.Gs.node[1]['ss_name']=['WOOD','AIR','METAL']\n",
      "S.L.build()\n",
      "\n",
      "tx=array([759,1114,1.0])\n",
      "rx=array([767,1114,1.5])\n",
      "S.tx.clear()\n",
      "S.rx.clear()\n",
      "S.tx.point(tx)\n",
      "S.rx.point(rx)\n",
      "Ctx = S.L.pt2cy(S.tx.position[:,0])\n",
      "Crx = S.L.pt2cy(S.rx.position[:,0])\n",
      "\n",
      "Si1 = Signatures(S.L,Ctx,Crx)\n",
      "Si1.run4(cutoff=5,algo='old')\n",
      "\n",
      "\n",
      "r2d = Si1.rays(tx,rx)\n",
      "r3d1 = r2d.to3D(S.L)\n",
      "r3d1.locbas(S.L)\n",
      "\n",
      "fGHz=np.arange(2,11,0.1)\n",
      "r3d1.fillinter(S.L)\n",
      "\n",
      "c1=r3d1.eval(fGHz)\n",
      "\n"
     ],
     "language": "python",
     "metadata": {},
     "outputs": [],
     "trusted": true
    },
    {
     "cell_type": "code",
     "collapsed": false,
     "input": [
      "dtr = np.pi/180\n",
      "alt = 20*dtr\n",
      "alp = 45*dtr\n",
      "\n",
      "Tt = np.array([[cos(alt), -sin(alt),0],[sin(alt), cos(alt),0],[0,0,1]])\n",
      "Tr = np.array([[cos(alp), -sin(alp),0],[sin(alp), cos(alp),0],[0,0,1]])\n",
      "\n",
      "c1.doadod(phi=(-180,180))\n",
      "c3 = copy.copy(c1)\n",
      "c1.Cg2Cl(Tt,Tr)\n",
      "c1.Cg2Cl()"
     ],
     "language": "python",
     "metadata": {},
     "outputs": [],
     "trusted": true
    },
    {
     "cell_type": "code",
     "collapsed": false,
     "input": [
      "from pylayers.antprop.antenna import Antenna\n",
      "A1=Antenna(pattern=True)\n",
      "sca1=c1.prop2tran()\n",
      "sca2=c1.prop2tran(a=A1,b=A1)\n"
     ],
     "language": "python",
     "metadata": {},
     "outputs": [],
     "trusted": true
    },
    {
     "cell_type": "code",
     "collapsed": false,
     "input": [
      "sca1.doadod(phi=(-180,180))"
     ],
     "language": "python",
     "metadata": {},
     "outputs": [],
     "trusted": true
    },
    {
     "cell_type": "code",
     "collapsed": false,
     "input": [
      "sca2.doadod(phi=(-180,180))"
     ],
     "language": "python",
     "metadata": {},
     "outputs": [],
     "trusted": true
    }
   ],
   "metadata": {}
  }
 ]
}