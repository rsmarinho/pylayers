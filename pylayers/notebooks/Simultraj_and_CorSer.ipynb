{
 "cells": [
  {
   "cell_type": "code",
   "execution_count": 1,
   "metadata": {
    "collapsed": false
   },
   "outputs": [
    {
     "name": "stderr",
     "output_type": "stream",
     "text": [
      "WARNING:traits.has_traits:DEPRECATED: traits.has_traits.wrapped_class, 'the 'implements' class advisor has been deprecated. Use the 'provides' class decorator.\n"
     ]
    }
   ],
   "source": [
    "import pylayers.simul.simultraj as st\n",
    "from pylayers.measures.cormoran import *"
   ]
  },
  {
   "cell_type": "code",
   "execution_count": 15,
   "metadata": {
    "collapsed": false
   },
   "outputs": [
    {
     "name": "stdout",
     "output_type": "stream",
     "text": [
      "Populating the interactive namespace from numpy and matplotlib\n"
     ]
    },
    {
     "name": "stderr",
     "output_type": "stream",
     "text": [
      "WARNING: pylab import has clobbered these variables: ['concatenate', 'dist', 'mlab', 'show', 'random', 'copy']\n",
      "`%matplotlib` prevents importing * from pylab and numpy\n"
     ]
    }
   ],
   "source": [
    "%pylab inline"
   ]
  },
  {
   "cell_type": "code",
   "execution_count": 2,
   "metadata": {
    "collapsed": false
   },
   "outputs": [
    {
     "name": "stdout",
     "output_type": "stream",
     "text": [
      "\n",
      "load infrastructure node position: **** Processor coding : Intel-PC\n",
      "\n",
      "load  Nicolas  body: **** Processor coding : Intel-PC\n",
      "\n",
      "BS data frame index:  Align on mocap OK... WARNING time-offset NOT applied\n",
      "No BS offset not yet set => use self.offset_setter \n",
      "\n",
      "HKB data frame index: Align on mocap OK... time-offset applied OK\n",
      "\n",
      "Create distance Dataframe... OK\n"
     ]
    }
   ],
   "source": [
    "C=CorSer()\n",
    "S=st.Simul(C,verbose=True)\n",
    "            "
   ]
  },
  {
   "cell_type": "code",
   "execution_count": 25,
   "metadata": {
    "collapsed": false
   },
   "outputs": [
    {
     "data": {
      "text/plain": [
       "array([  0.00000000e+00,   2.58320000e-02,   5.16640000e-02, ...,\n",
       "         1.01700584e+02,   1.01726416e+02,   1.01752248e+02])"
      ]
     },
     "execution_count": 25,
     "metadata": {},
     "output_type": "execute_result"
    }
   ],
   "source": [
    "C.thkb"
   ]
  },
  {
   "cell_type": "code",
   "execution_count": 19,
   "metadata": {
    "collapsed": false
   },
   "outputs": [
    {
     "data": {
      "text/plain": [
       "{'AP1': 1,\n",
       " 'AP2': 2,\n",
       " 'AP3': 3,\n",
       " 'AP4': 4,\n",
       " 'AnkleLeft': 15,\n",
       " 'AnkleRight': 16,\n",
       " 'BackCenter': 8,\n",
       " 'ElbowLeft': 10,\n",
       " 'ElbowRight': 9,\n",
       " 'HeadRight': 5,\n",
       " 'HipRight': 11,\n",
       " 'KneeLeft': 14,\n",
       " 'TorsoTopLeft': 7,\n",
       " 'TorsoTopRight': 6,\n",
       " 'WristLeft': 13,\n",
       " 'WristRight': 12}"
      ]
     },
     "execution_count": 19,
     "metadata": {},
     "output_type": "execute_result"
    }
   ],
   "source": [
    "C.dHKB"
   ]
  },
  {
   "cell_type": "markdown",
   "metadata": {},
   "source": [
    "# Set links"
   ]
  },
  {
   "cell_type": "markdown",
   "metadata": {},
   "source": [
    "Simulation has an object network which contains a links dictionnary.\n",
    "This dictionnary has **wireless standard** as **key**, and **list of links** with their type as **value**.\n"
   ]
  },
  {
   "cell_type": "code",
   "execution_count": 22,
   "metadata": {
    "collapsed": false
   },
   "outputs": [
    {
     "name": "stdout",
     "output_type": "stream",
     "text": [
      "0 ['HKB:16', 'HKB:14', 'OB']\n",
      "1 ['HKB:16', 'HKB:15', 'OB']\n",
      "2 ['HKB:16', 'HKB:12', 'OB']\n",
      "3 ['HKB:16', 'HKB:13', 'OB']\n",
      "4 ['HKB:16', 'HKB:10', 'OB']\n",
      "5 ['HKB:16', 'HKB:11', 'OB']\n",
      "6 ['HKB:16', 'HKB:4', 'B2I']\n",
      "7 ['HKB:16', 'HKB:5', 'OB']\n",
      "8 ['HKB:16', 'HKB:6', 'OB']\n",
      "9 ['HKB:16', 'HKB:7', 'OB']\n",
      "10 ['HKB:16', 'HKB:1', 'B2I']\n",
      "11 ['HKB:16', 'HKB:2', 'B2I']\n",
      "12 ['HKB:16', 'HKB:3', 'B2I']\n",
      "13 ['HKB:16', 'HKB:8', 'OB']\n",
      "14 ['HKB:16', 'HKB:9', 'OB']\n",
      "15 ['HKB:14', 'HKB:15', 'OB']\n",
      "16 ['HKB:14', 'HKB:12', 'OB']\n",
      "17 ['HKB:14', 'HKB:13', 'OB']\n",
      "18 ['HKB:14', 'HKB:10', 'OB']\n",
      "19 ['HKB:14', 'HKB:11', 'OB']\n",
      "20 ['HKB:14', 'HKB:4', 'B2I']\n",
      "21 ['HKB:14', 'HKB:5', 'OB']\n",
      "22 ['HKB:14', 'HKB:6', 'OB']\n",
      "23 ['HKB:14', 'HKB:7', 'OB']\n",
      "24 ['HKB:14', 'HKB:1', 'B2I']\n",
      "25 ['HKB:14', 'HKB:2', 'B2I']\n",
      "26 ['HKB:14', 'HKB:3', 'B2I']\n",
      "27 ['HKB:14', 'HKB:8', 'OB']\n",
      "28 ['HKB:14', 'HKB:9', 'OB']\n",
      "29 ['HKB:15', 'HKB:12', 'OB']\n",
      "30 ['HKB:15', 'HKB:13', 'OB']\n",
      "31 ['HKB:15', 'HKB:10', 'OB']\n",
      "32 ['HKB:15', 'HKB:11', 'OB']\n",
      "33 ['HKB:15', 'HKB:4', 'B2I']\n",
      "34 ['HKB:15', 'HKB:5', 'OB']\n",
      "35 ['HKB:15', 'HKB:6', 'OB']\n",
      "36 ['HKB:15', 'HKB:7', 'OB']\n",
      "37 ['HKB:15', 'HKB:1', 'B2I']\n",
      "38 ['HKB:15', 'HKB:2', 'B2I']\n",
      "39 ['HKB:15', 'HKB:3', 'B2I']\n",
      "40 ['HKB:15', 'HKB:8', 'OB']\n",
      "41 ['HKB:15', 'HKB:9', 'OB']\n",
      "42 ['HKB:12', 'HKB:13', 'OB']\n",
      "43 ['HKB:12', 'HKB:10', 'OB']\n",
      "44 ['HKB:12', 'HKB:11', 'OB']\n",
      "45 ['HKB:12', 'HKB:4', 'B2I']\n",
      "46 ['HKB:12', 'HKB:5', 'OB']\n",
      "47 ['HKB:12', 'HKB:6', 'OB']\n",
      "48 ['HKB:12', 'HKB:7', 'OB']\n",
      "49 ['HKB:12', 'HKB:1', 'B2I']\n",
      "50 ['HKB:12', 'HKB:2', 'B2I']\n",
      "51 ['HKB:12', 'HKB:3', 'B2I']\n",
      "52 ['HKB:12', 'HKB:8', 'OB']\n",
      "53 ['HKB:12', 'HKB:9', 'OB']\n",
      "54 ['HKB:13', 'HKB:10', 'OB']\n",
      "55 ['HKB:13', 'HKB:11', 'OB']\n",
      "56 ['HKB:13', 'HKB:4', 'B2I']\n",
      "57 ['HKB:13', 'HKB:5', 'OB']\n",
      "58 ['HKB:13', 'HKB:6', 'OB']\n",
      "59 ['HKB:13', 'HKB:7', 'OB']\n",
      "60 ['HKB:13', 'HKB:1', 'B2I']\n",
      "61 ['HKB:13', 'HKB:2', 'B2I']\n",
      "62 ['HKB:13', 'HKB:3', 'B2I']\n",
      "63 ['HKB:13', 'HKB:8', 'OB']\n",
      "64 ['HKB:13', 'HKB:9', 'OB']\n",
      "65 ['HKB:10', 'HKB:11', 'OB']\n",
      "66 ['HKB:10', 'HKB:4', 'B2I']\n",
      "67 ['HKB:10', 'HKB:5', 'OB']\n",
      "68 ['HKB:10', 'HKB:6', 'OB']\n",
      "69 ['HKB:10', 'HKB:7', 'OB']\n",
      "70 ['HKB:10', 'HKB:1', 'B2I']\n",
      "71 ['HKB:10', 'HKB:2', 'B2I']\n",
      "72 ['HKB:10', 'HKB:3', 'B2I']\n",
      "73 ['HKB:10', 'HKB:8', 'OB']\n",
      "74 ['HKB:10', 'HKB:9', 'OB']\n",
      "75 ['HKB:11', 'HKB:4', 'B2I']\n",
      "76 ['HKB:11', 'HKB:5', 'OB']\n",
      "77 ['HKB:11', 'HKB:6', 'OB']\n",
      "78 ['HKB:11', 'HKB:7', 'OB']\n",
      "79 ['HKB:11', 'HKB:1', 'B2I']\n",
      "80 ['HKB:11', 'HKB:2', 'B2I']\n",
      "81 ['HKB:11', 'HKB:3', 'B2I']\n",
      "82 ['HKB:11', 'HKB:8', 'OB']\n",
      "83 ['HKB:11', 'HKB:9', 'OB']\n",
      "84 ['HKB:4', 'HKB:5', 'B2I']\n",
      "85 ['HKB:4', 'HKB:6', 'B2I']\n",
      "86 ['HKB:4', 'HKB:7', 'B2I']\n",
      "87 ['HKB:4', 'HKB:1', 'I2I']\n",
      "88 ['HKB:4', 'HKB:2', 'I2I']\n",
      "89 ['HKB:4', 'HKB:3', 'I2I']\n",
      "90 ['HKB:4', 'HKB:8', 'B2I']\n",
      "91 ['HKB:4', 'HKB:9', 'B2I']\n",
      "92 ['HKB:5', 'HKB:6', 'OB']\n",
      "93 ['HKB:5', 'HKB:7', 'OB']\n",
      "94 ['HKB:5', 'HKB:1', 'B2I']\n",
      "95 ['HKB:5', 'HKB:2', 'B2I']\n",
      "96 ['HKB:5', 'HKB:3', 'B2I']\n",
      "97 ['HKB:5', 'HKB:8', 'OB']\n",
      "98 ['HKB:5', 'HKB:9', 'OB']\n",
      "99 ['HKB:6', 'HKB:7', 'OB']\n",
      "100 ['HKB:6', 'HKB:1', 'B2I']\n",
      "101 ['HKB:6', 'HKB:2', 'B2I']\n",
      "102 ['HKB:6', 'HKB:3', 'B2I']\n",
      "103 ['HKB:6', 'HKB:8', 'OB']\n",
      "104 ['HKB:6', 'HKB:9', 'OB']\n",
      "105 ['HKB:7', 'HKB:1', 'B2I']\n",
      "106 ['HKB:7', 'HKB:2', 'B2I']\n",
      "107 ['HKB:7', 'HKB:3', 'B2I']\n",
      "108 ['HKB:7', 'HKB:8', 'OB']\n",
      "109 ['HKB:7', 'HKB:9', 'OB']\n",
      "110 ['HKB:1', 'HKB:2', 'I2I']\n",
      "111 ['HKB:1', 'HKB:3', 'I2I']\n",
      "112 ['HKB:1', 'HKB:8', 'B2I']\n",
      "113 ['HKB:1', 'HKB:9', 'B2I']\n",
      "114 ['HKB:2', 'HKB:3', 'I2I']\n",
      "115 ['HKB:2', 'HKB:8', 'B2I']\n",
      "116 ['HKB:2', 'HKB:9', 'B2I']\n",
      "117 ['HKB:3', 'HKB:8', 'B2I']\n",
      "118 ['HKB:3', 'HKB:9', 'B2I']\n",
      "119 ['HKB:8', 'HKB:9', 'OB']\n"
     ]
    }
   ],
   "source": [
    "m\n",
    "for k,lk in enumerate(llinks):\n",
    "    print k,lk"
   ]
  },
  {
   "cell_type": "markdown",
   "metadata": {},
   "source": [
    "Let's select 2 link from this list:"
   ]
  },
  {
   "cell_type": "code",
   "execution_count": 23,
   "metadata": {
    "collapsed": true
   },
   "outputs": [],
   "source": [
    "link={'ieee802154':[]}\n",
    "link['ieee802154'].append(S.N.links['ieee802154'][100])\n",
    "link['ieee802154'].append(S.N.links['ieee802154'][101])"
   ]
  },
  {
   "cell_type": "markdown",
   "metadata": {},
   "source": [
    "## Set Time"
   ]
  },
  {
   "cell_type": "markdown",
   "metadata": {},
   "source": [
    "Let's set timestamps where simulation will be run"
   ]
  },
  {
   "cell_type": "code",
   "execution_count": 28,
   "metadata": {
    "collapsed": false
   },
   "outputs": [
    {
     "name": "stdout",
     "output_type": "stream",
     "text": [
      "[0, 10, 20, 30, 40, 50, 60, 70, 80, 90]\n"
     ]
    }
   ],
   "source": [
    "lt = range(0,100,10)\n",
    "print lt"
   ]
  },
  {
   "cell_type": "markdown",
   "metadata": {},
   "source": [
    "## Run simulation"
   ]
  },
  {
   "cell_type": "markdown",
   "metadata": {},
   "source": [
    "run simulation for the given links and selected timestanmps "
   ]
  },
  {
   "cell_type": "code",
   "execution_count": 29,
   "metadata": {
    "collapsed": false
   },
   "outputs": [
    {
     "data": {
      "text/plain": [
       "{'ieee802154': [['HKB:6', 'HKB:1', 'B2I'], ['HKB:6', 'HKB:2', 'B2I']]}"
      ]
     },
     "execution_count": 29,
     "metadata": {},
     "output_type": "execute_result"
    }
   ],
   "source": [
    "link"
   ]
  },
  {
   "cell_type": "code",
   "execution_count": 31,
   "metadata": {
    "collapsed": false
   },
   "outputs": [
    {
     "name": "stdout",
     "output_type": "stream",
     "text": [
      "------------------------------\n",
      "time: 0.0 / 89.9986371053  time idx: 0 / 10\n",
      "processing:  HKB:6  <->  HKB:1 wstd:  ieee802154\n",
      "------------------------------\n",
      "Signatures'> from 3_3_2 loaded\n",
      "Rays'> from 2_15_16 saved\n",
      "Ctilde'> from 15_16_0 saved\n",
      "Tchannel'> from 15_16_0_18_2_0_0 saved\n",
      "------------------------------\n",
      "time: 0.0 / 89.9986371053  time idx: 0 / 10\n",
      "processing:  HKB:6  <->  HKB:2 wstd:  ieee802154\n",
      "------------------------------\n",
      "Signatures'> from 3_3_2 loaded\n",
      "Rays'> from 2_15_17 saved\n",
      "Ctilde'> from 15_17_0 saved\n",
      "Tchannel'> from 15_17_0_18_2_0_0 saved\n",
      "------------------------------\n",
      "time: 9.99095882522 / 89.9986371053  time idx: 1 / 10\n",
      "processing:  HKB:6  <->  HKB:1 wstd:  ieee802154\n",
      "------------------------------\n",
      "Signatures'> from 3_3_2 loaded\n",
      "Rays'> from 2_18_16 saved\n",
      "Ctilde'> from 18_16_0 saved\n",
      "Tchannel'> from 18_16_0_19_2_0_0 saved\n",
      "------------------------------\n",
      "time: 9.99095882522 / 89.9986371053  time idx: 1 / 10\n",
      "processing:  HKB:6  <->  HKB:2 wstd:  ieee802154\n",
      "------------------------------\n",
      "Signatures'> from 3_3_2 loaded\n",
      "Rays'> from 2_18_17 saved\n",
      "Ctilde'> from 18_17_0 saved\n",
      "Tchannel'> from 18_17_0_19_2_0_0 saved\n",
      "------------------------------\n",
      "time: 19.9919186102 / 89.9986371053  time idx: 2 / 10\n",
      "processing:  HKB:6  <->  HKB:1 wstd:  ieee802154\n",
      "------------------------------\n",
      "Signatures'> from 3_3_2 loaded\n",
      "Rays'> from 2_19_16 saved\n",
      "Ctilde'> from 19_16_0 saved\n",
      "Tchannel'> from 19_16_0_20_2_0_0 saved\n",
      "------------------------------\n",
      "time: 19.9919186102 / 89.9986371053  time idx: 2 / 10\n",
      "processing:  HKB:6  <->  HKB:2 wstd:  ieee802154\n",
      "------------------------------\n",
      "Signatures'> from 3_3_2 loaded\n",
      "Rays'> from 2_19_17 saved\n",
      "Ctilde'> from 19_17_0 saved\n",
      "Tchannel'> from 19_17_0_20_2_0_0 saved\n",
      "------------------------------\n",
      "time: 29.9928783952 / 89.9986371053  time idx: 3 / 10\n",
      "processing:  HKB:6  <->  HKB:1 wstd:  ieee802154\n",
      "------------------------------\n",
      "Signatures'> from 3_3_2 loaded\n",
      "Rays'> from 2_20_16 saved\n",
      "Ctilde'> from 20_16_0 saved\n",
      "Tchannel'> from 20_16_0_21_2_0_0 saved\n",
      "------------------------------\n",
      "time: 29.9928783952 / 89.9986371053  time idx: 3 / 10\n",
      "processing:  HKB:6  <->  HKB:2 wstd:  ieee802154\n",
      "------------------------------\n",
      "Signatures'> from 3_3_2 loaded\n",
      "Rays'> from 2_20_17 saved\n",
      "Ctilde'> from 20_17_0 saved\n",
      "Tchannel'> from 20_17_0_21_2_0_0 saved\n",
      "------------------------------\n",
      "time: 39.9938381802 / 89.9986371053  time idx: 4 / 10\n",
      "processing:  HKB:6  <->  HKB:1 wstd:  ieee802154\n",
      "------------------------------\n",
      "Signatures'> from 3_3_2 loaded\n",
      "Rays'> from 2_21_16 saved\n",
      "Ctilde'> from 21_16_0 saved\n",
      "Tchannel'> from 21_16_0_22_2_0_0 saved\n",
      "------------------------------\n",
      "time: 39.9938381802 / 89.9986371053  time idx: 4 / 10\n",
      "processing:  HKB:6  <->  HKB:2 wstd:  ieee802154\n",
      "------------------------------\n",
      "Signatures'> from 3_3_2 loaded\n",
      "Rays'> from 2_21_17 saved\n",
      "Ctilde'> from 21_17_0 saved\n",
      "Tchannel'> from 21_17_0_22_2_0_0 saved\n",
      "------------------------------\n",
      "time: 49.9947979653 / 89.9986371053  time idx: 5 / 10\n",
      "processing:  HKB:6  <->  HKB:1 wstd:  ieee802154\n",
      "------------------------------\n",
      "Signatures'> from 3_3_2 loaded\n",
      "Rays'> from 2_22_16 saved\n",
      "Ctilde'> from 22_16_0 saved\n",
      "Tchannel'> from 22_16_0_23_2_0_0 saved\n",
      "------------------------------\n",
      "time: 49.9947979653 / 89.9986371053  time idx: 5 / 10\n",
      "processing:  HKB:6  <->  HKB:2 wstd:  ieee802154\n",
      "------------------------------\n",
      "Signatures'> from 3_3_2 loaded\n",
      "Rays'> from 2_22_17 saved\n",
      "Ctilde'> from 22_17_0 saved\n",
      "Tchannel'> from 22_17_0_23_2_0_0 saved\n",
      "------------------------------\n",
      "time: 59.9957577503 / 89.9986371053  time idx: 6 / 10\n",
      "processing:  HKB:6  <->  HKB:1 wstd:  ieee802154\n",
      "------------------------------\n",
      "Signatures'> from 3_3_2 loaded\n",
      "Rays'> from 2_23_16 saved\n",
      "Ctilde'> from 23_16_0 saved\n",
      "Tchannel'> from 23_16_0_24_2_0_0 saved\n",
      "------------------------------\n",
      "time: 59.9957577503 / 89.9986371053  time idx: 6 / 10\n",
      "processing:  HKB:6  <->  HKB:2 wstd:  ieee802154\n",
      "------------------------------\n",
      "Signatures'> from 3_3_2 loaded\n",
      "Rays'> from 2_23_17 saved\n",
      "Ctilde'> from 23_17_0 saved\n",
      "Tchannel'> from 23_17_0_24_2_0_0 saved\n",
      "------------------------------\n",
      "time: 69.9967175353 / 89.9986371053  time idx: 7 / 10\n",
      "processing:  HKB:6  <->  HKB:1 wstd:  ieee802154\n",
      "------------------------------\n",
      "Signatures'> from 3_3_2 loaded\n",
      "Rays'> from 2_24_16 saved\n",
      "Ctilde'> from 24_16_0 saved\n",
      "Tchannel'> from 24_16_0_25_2_0_0 saved\n",
      "------------------------------\n",
      "time: 69.9967175353 / 89.9986371053  time idx: 7 / 10\n",
      "processing:  HKB:6  <->  HKB:2 wstd:  ieee802154\n",
      "------------------------------\n",
      "Signatures'> from 3_3_2 loaded\n",
      "Rays'> from 2_24_17 saved\n",
      "Ctilde'> from 24_17_0 saved\n",
      "Tchannel'> from 24_17_0_25_2_0_0 saved\n",
      "------------------------------\n",
      "time: 79.9976773203 / 89.9986371053  time idx: 8 / 10\n",
      "processing:  HKB:6  <->  HKB:1 wstd:  ieee802154\n",
      "------------------------------\n",
      "Signatures'> from 3_3_2 loaded\n",
      "Rays'> from 2_25_16 saved\n",
      "Ctilde'> from 25_16_0 saved\n",
      "Tchannel'> from 25_16_0_26_2_0_0 saved\n",
      "------------------------------\n",
      "time: 79.9976773203 / 89.9986371053  time idx: 8 / 10\n",
      "processing:  HKB:6  <->  HKB:2 wstd:  ieee802154\n",
      "------------------------------\n",
      "Signatures'> from 3_3_2 loaded\n",
      "Rays'> from 2_25_17 saved\n",
      "Ctilde'> from 25_17_0 saved\n",
      "Tchannel'> from 25_17_0_26_2_0_0 saved\n",
      "------------------------------\n",
      "time: 89.9986371053 / 89.9986371053  time idx: 9 / 10\n",
      "processing:  HKB:6  <->  HKB:1 wstd:  ieee802154\n",
      "------------------------------\n",
      "Signatures'> from 3_3_2 loaded\n",
      "Rays'> from 2_26_16 saved\n",
      "Ctilde'> from 26_16_0 saved\n",
      "Tchannel'> from 26_16_0_27_2_0_0 saved\n",
      "------------------------------\n",
      "time: 89.9986371053 / 89.9986371053  time idx: 9 / 10\n",
      "processing:  HKB:6  <->  HKB:2 wstd:  ieee802154\n",
      "------------------------------\n",
      "Signatures'> from 3_3_2 loaded\n",
      "Rays'> from 2_26_17 saved\n",
      "Ctilde'> from 26_17_0 saved\n",
      "Tchannel'> from 26_17_0_27_2_0_0 saved\n"
     ]
    }
   ],
   "source": [
    "stemS.run(links=link,t=lt)"
   ]
  },
  {
   "cell_type": "markdown",
   "metadata": {},
   "source": [
    "## Get data from simulation"
   ]
  },
  {
   "cell_type": "code",
   "execution_count": 32,
   "metadata": {
    "collapsed": false
   },
   "outputs": [
    {
     "name": "stdout",
     "output_type": "stream",
     "text": [
      "Tchannel'> from 15_16_0_18_2_0_0 loaded\n",
      "Tchannel'> from 15_17_0_18_2_0_0 loaded\n",
      "Tchannel'> from 18_16_0_19_2_0_0 loaded\n",
      "Tchannel'> from 18_17_0_19_2_0_0 loaded\n",
      "Tchannel'> from 19_16_0_20_2_0_0 loaded\n",
      "Tchannel'> from 19_17_0_20_2_0_0 loaded\n",
      "Tchannel'> from 20_16_0_21_2_0_0 loaded\n",
      "Tchannel'> from 20_17_0_21_2_0_0 loaded\n",
      "Tchannel'> from 21_16_0_22_2_0_0 loaded\n",
      "Tchannel'> from 21_17_0_22_2_0_0 loaded\n",
      "Tchannel'> from 22_16_0_23_2_0_0 loaded\n",
      "Tchannel'> from 22_17_0_23_2_0_0 loaded\n",
      "Tchannel'> from 23_16_0_24_2_0_0 loaded\n",
      "Tchannel'> from 23_17_0_24_2_0_0 loaded\n",
      "Tchannel'> from 24_16_0_25_2_0_0 loaded\n",
      "Tchannel'> from 24_17_0_25_2_0_0 loaded\n",
      "Tchannel'> from 25_16_0_26_2_0_0 loaded\n",
      "Tchannel'> from 25_17_0_26_2_0_0 loaded\n",
      "Tchannel'> from 26_16_0_27_2_0_0 loaded\n",
      "Tchannel'> from 26_17_0_27_2_0_0 loaded\n"
     ]
    }
   ],
   "source": [
    "output=S.get_value(typ=['ak','tk'],links=link,t=lt)"
   ]
  },
  {
   "cell_type": "markdown",
   "metadata": {},
   "source": [
    "output is a dictionnay of dicionnary:\n",
    "\n",
    "- The first **key** is the considered link \"node_id_a-node_id_b\" \n",
    "- The scond key is the requested parameter among 'ak' or 'tk' , and the time 't'\n",
    "- The value is a list containing values of the resquested parameter.\n",
    "\n",
    "\n"
   ]
  },
  {
   "cell_type": "markdown",
   "metadata": {},
   "source": [
    "Hence, to obtain the **ak** value of the **link 'HKB:16', 'HKB:14'** fro the **2nd timestamp** , just type:\n"
   ]
  },
  {
   "cell_type": "code",
   "execution_count": 34,
   "metadata": {
    "collapsed": false
   },
   "outputs": [
    {
     "data": {
      "text/plain": [
       "10"
      ]
     },
     "execution_count": 34,
     "metadata": {},
     "output_type": "execute_result"
    }
   ],
   "source": [
    "len(output['HKB:6-HKB:1']['ak'])"
   ]
  },
  {
   "cell_type": "code",
   "execution_count": 40,
   "metadata": {
    "collapsed": false
   },
   "outputs": [
    {
     "data": {
      "text/plain": [
       "[<matplotlib.lines.Line2D at 0x7f4112a980d0>]"
      ]
     },
     "execution_count": 40,
     "metadata": {},
     "output_type": "execute_result"
    },
    {
     "data": {
      "image/png": "[encoded data removed]",
      "text/plain": [
       "<matplotlib.figure.Figure at 0x7f4112b08d10>"
      ]
     },
     "metadata": {},
     "output_type": "display_data"
    }
   ],
   "source": [
    "plot(output['HKB:6-HKB:1']['tk'][2],10*log10(output['HKB:6-HKB:1']['ak'][2]),'.')"
   ]
  },
  {
   "cell_type": "code",
   "execution_count": 43,
   "metadata": {
    "collapsed": false
   },
   "outputs": [
    {
     "data": {
      "text/plain": [
       "(10420, 19, 19)"
      ]
     },
     "execution_count": 43,
     "metadata": {},
     "output_type": "execute_result"
    }
   ],
   "source": [
    "C.dist.shape"
   ]
  },
  {
   "cell_type": "code",
   "execution_count": 44,
   "metadata": {
    "collapsed": false
   },
   "outputs": [
    {
     "data": {
      "text/plain": [
       "6060"
      ]
     },
     "execution_count": 44,
     "metadata": {},
     "output_type": "execute_result"
    }
   ],
   "source": [
    "101*60"
   ]
  },
  {
   "cell_type": "code",
   "execution_count": 45,
   "metadata": {
    "collapsed": false
   },
   "outputs": [
    {
     "data": {
      "text/plain": [
       "array([  0.00000000e+00,   1.00009598e-02,   2.00019196e-02, ...,\n",
       "         1.04179998e+02,   1.04189999e+02,   1.04200000e+02])"
      ]
     },
     "execution_count": 45,
     "metadata": {},
     "output_type": "execute_result"
    }
   ],
   "source": [
    "C.tmocap"
   ]
  },
  {
   "cell_type": "code",
   "execution_count": 46,
   "metadata": {
    "collapsed": false
   },
   "outputs": [
    {
     "data": {
      "text/plain": [
       "10420"
      ]
     },
     "execution_count": 46,
     "metadata": {},
     "output_type": "execute_result"
    }
   ],
   "source": [
    "len(C.tmocap)"
   ]
  },
  {
   "cell_type": "code",
   "execution_count": 48,
   "metadata": {
    "collapsed": false
   },
   "outputs": [],
   "source": [
    "d16=C.dist[:,0,5]\n",
    "d61=C.dist[:,5,0]"
   ]
  },
  {
   "cell_type": "code",
   "execution_count": 50,
   "metadata": {
    "collapsed": false
   },
   "outputs": [
    {
     "data": {
      "text/plain": [
       "[<matplotlib.lines.Line2D at 0x7f4112b035d0>]"
      ]
     },
     "execution_count": 50,
     "metadata": {},
     "output_type": "execute_result"
    },
    {
     "data": {
      "image/png": "[encoded data removed]",
      "text/plain": [
       "<matplotlib.figure.Figure at 0x7f4112b03890>"
      ]
     },
     "metadata": {},
     "output_type": "display_data"
    }
   ],
   "source": [
    "plot(d16)\n",
    "plot(d61)"
   ]
  },
  {
   "cell_type": "code",
   "execution_count": 62,
   "metadata": {
    "collapsed": false
   },
   "outputs": [],
   "source": [
    "tak2 =[]\n",
    "tt = []\n",
    "for k in range(len(output['HKB:6-HKB:1']['t'])):\n",
    "    t = output['HKB:6-HKB:1']['t'][k]\n",
    "    tt.append(t)\n",
    "    ak = output['HKB:6-HKB:1']['ak'][k]\n",
    "    ak2 = sum(ak*ak)\n",
    "    tak2.append(10*log10(ak2))"
   ]
  },
  {
   "cell_type": "code",
   "execution_count": 64,
   "metadata": {
    "collapsed": false
   },
   "outputs": [
    {
     "data": {
      "text/plain": [
       "[<matplotlib.lines.Line2D at 0x7f41128b98d0>]"
      ]
     },
     "execution_count": 64,
     "metadata": {},
     "output_type": "execute_result"
    },
    {
     "data": {
      "image/png": "[encoded data removed]",
      "text/plain": [
       "<matplotlib.figure.Figure at 0x7f41128b9a10>"
      ]
     },
     "metadata": {},
     "output_type": "display_data"
    }
   ],
   "source": [
    "plot(tt,tak2)\n",
    "plot(C.tmocap,d61)"
   ]
  },
  {
   "cell_type": "code",
   "execution_count": null,
   "metadata": {
    "collapsed": true
   },
   "outputs": [],
   "source": []
  }
 ],
 "metadata": {
  "kernelspec": {
   "display_name": "Python 2",
   "language": "python",
   "name": "python2"
  },
  "language_info": {
   "codemirror_mode": {
    "name": "ipython",
    "version": 2
   },
   "file_extension": ".py",
   "mimetype": "text/x-python",
   "name": "python",
   "nbconvert_exporter": "python",
   "pygments_lexer": "ipython2",
   "version": "2.7.9"
  }
 },
 "nbformat": 4,
 "nbformat_minor": 0
}
