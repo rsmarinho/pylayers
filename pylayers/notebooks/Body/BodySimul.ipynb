{
 "metadata": {
  "name": "",
  "signature": "sha256:d72f3e40c390b174cece289e84c7f7b363a71876ded226067162282e2011ce45"
 },
 "nbformat": 3,
 "nbformat_minor": 0,
 "worksheets": [
  {
   "cells": [
    {
     "cell_type": "code",
     "collapsed": false,
     "input": [
      "from pylayers.gis.layout import *\n",
      "from pylayers.mobility.ban.body import *\n",
      "import pylayers.mobility.trajectory as tr\n",
      "from pylayers.simul.simulem import *"
     ],
     "language": "python",
     "metadata": {},
     "outputs": [],
     "prompt_number": 3
    },
    {
     "cell_type": "code",
     "collapsed": false,
     "input": [
      "from itertools import combinations"
     ],
     "language": "python",
     "metadata": {},
     "outputs": [],
     "prompt_number": 3
    },
    {
     "cell_type": "code",
     "collapsed": false,
     "input": [
      "L = Layout('TA-Office.ini')"
     ],
     "language": "python",
     "metadata": {},
     "outputs": [],
     "prompt_number": 4
    },
    {
     "cell_type": "code",
     "collapsed": false,
     "input": [
      "lt = tr.importsn()\n",
      "f,a=L.showGs(figsize=(20,10))\n",
      "f,a = lt[0].plot(fig=f,ax=a)\n",
      "f,a = lt[1].plot(fig=f,ax=a)\n",
      "f,a = lt[2].plot(fig=f,ax=a)"
     ],
     "language": "python",
     "metadata": {},
     "outputs": [
      {
       "ename": "IOError",
       "evalue": "File /home/uguen/Bureau/P1/netsave/pos.csv does not exist",
       "output_type": "pyerr",
       "traceback": [
        "\u001b[1;31m---------------------------------------------------------------------------\u001b[0m\n\u001b[1;31mIOError\u001b[0m                                   Traceback (most recent call last)",
        "\u001b[1;32m<ipython-input-5-911d59736b4c>\u001b[0m in \u001b[0;36m<module>\u001b[1;34m()\u001b[0m\n\u001b[1;32m----> 1\u001b[1;33m \u001b[0mlt\u001b[0m \u001b[1;33m=\u001b[0m \u001b[0mtr\u001b[0m\u001b[1;33m.\u001b[0m\u001b[0mimportsn\u001b[0m\u001b[1;33m(\u001b[0m\u001b[1;33m)\u001b[0m\u001b[1;33m\u001b[0m\u001b[0m\n\u001b[0m\u001b[0;32m      2\u001b[0m \u001b[0mf\u001b[0m\u001b[1;33m,\u001b[0m\u001b[0ma\u001b[0m\u001b[1;33m=\u001b[0m\u001b[0mL\u001b[0m\u001b[1;33m.\u001b[0m\u001b[0mshowGs\u001b[0m\u001b[1;33m(\u001b[0m\u001b[0mfigsize\u001b[0m\u001b[1;33m=\u001b[0m\u001b[1;33m(\u001b[0m\u001b[1;36m20\u001b[0m\u001b[1;33m,\u001b[0m\u001b[1;36m10\u001b[0m\u001b[1;33m)\u001b[0m\u001b[1;33m)\u001b[0m\u001b[1;33m\u001b[0m\u001b[0m\n\u001b[0;32m      3\u001b[0m \u001b[0mf\u001b[0m\u001b[1;33m,\u001b[0m\u001b[0ma\u001b[0m \u001b[1;33m=\u001b[0m \u001b[0mlt\u001b[0m\u001b[1;33m[\u001b[0m\u001b[1;36m0\u001b[0m\u001b[1;33m]\u001b[0m\u001b[1;33m.\u001b[0m\u001b[0mplot\u001b[0m\u001b[1;33m(\u001b[0m\u001b[0mfig\u001b[0m\u001b[1;33m=\u001b[0m\u001b[0mf\u001b[0m\u001b[1;33m,\u001b[0m\u001b[0max\u001b[0m\u001b[1;33m=\u001b[0m\u001b[0ma\u001b[0m\u001b[1;33m)\u001b[0m\u001b[1;33m\u001b[0m\u001b[0m\n\u001b[0;32m      4\u001b[0m \u001b[0mf\u001b[0m\u001b[1;33m,\u001b[0m\u001b[0ma\u001b[0m \u001b[1;33m=\u001b[0m \u001b[0mlt\u001b[0m\u001b[1;33m[\u001b[0m\u001b[1;36m1\u001b[0m\u001b[1;33m]\u001b[0m\u001b[1;33m.\u001b[0m\u001b[0mplot\u001b[0m\u001b[1;33m(\u001b[0m\u001b[0mfig\u001b[0m\u001b[1;33m=\u001b[0m\u001b[0mf\u001b[0m\u001b[1;33m,\u001b[0m\u001b[0max\u001b[0m\u001b[1;33m=\u001b[0m\u001b[0ma\u001b[0m\u001b[1;33m)\u001b[0m\u001b[1;33m\u001b[0m\u001b[0m\n\u001b[0;32m      5\u001b[0m \u001b[0mf\u001b[0m\u001b[1;33m,\u001b[0m\u001b[0ma\u001b[0m \u001b[1;33m=\u001b[0m \u001b[0mlt\u001b[0m\u001b[1;33m[\u001b[0m\u001b[1;36m2\u001b[0m\u001b[1;33m]\u001b[0m\u001b[1;33m.\u001b[0m\u001b[0mplot\u001b[0m\u001b[1;33m(\u001b[0m\u001b[0mfig\u001b[0m\u001b[1;33m=\u001b[0m\u001b[0mf\u001b[0m\u001b[1;33m,\u001b[0m\u001b[0max\u001b[0m\u001b[1;33m=\u001b[0m\u001b[0ma\u001b[0m\u001b[1;33m)\u001b[0m\u001b[1;33m\u001b[0m\u001b[0m\n",
        "\u001b[1;32m/home/uguen/Documents/rch/devel/pylayers/pylayers/mobility/trajectory.pyc\u001b[0m in \u001b[0;36mimportsn\u001b[1;34m(_filename)\u001b[0m\n\u001b[0;32m    760\u001b[0m     \"\"\"\n\u001b[0;32m    761\u001b[0m     \u001b[0mfilename\u001b[0m \u001b[1;33m=\u001b[0m \u001b[0mpyu\u001b[0m\u001b[1;33m.\u001b[0m\u001b[0mgetlong\u001b[0m\u001b[1;33m(\u001b[0m\u001b[0m_filename\u001b[0m\u001b[1;33m,\u001b[0m \u001b[0mpstruc\u001b[0m\u001b[1;33m[\u001b[0m\u001b[1;34m'DIRNETSAVE'\u001b[0m\u001b[1;33m]\u001b[0m\u001b[1;33m)\u001b[0m\u001b[1;33m\u001b[0m\u001b[0m\n\u001b[1;32m--> 762\u001b[1;33m     \u001b[0mdt\u001b[0m \u001b[1;33m=\u001b[0m \u001b[0mpd\u001b[0m\u001b[1;33m.\u001b[0m\u001b[0mread_csv\u001b[0m\u001b[1;33m(\u001b[0m\u001b[0mfilename\u001b[0m\u001b[1;33m)\u001b[0m\u001b[1;33m\u001b[0m\u001b[0m\n\u001b[0m\u001b[0;32m    763\u001b[0m     \u001b[0mdtk\u001b[0m \u001b[1;33m=\u001b[0m \u001b[0mdt\u001b[0m\u001b[1;33m.\u001b[0m\u001b[0mkeys\u001b[0m\u001b[1;33m(\u001b[0m\u001b[1;33m)\u001b[0m\u001b[1;33m\u001b[0m\u001b[0m\n\u001b[0;32m    764\u001b[0m     \u001b[0mN\u001b[0m \u001b[1;33m=\u001b[0m \u001b[0mlen\u001b[0m\u001b[1;33m(\u001b[0m\u001b[0mdtk\u001b[0m\u001b[1;33m)\u001b[0m\u001b[1;33m\u001b[0m\u001b[0m\n",
        "\u001b[1;32m/home/uguen/anaconda/lib/python2.7/site-packages/pandas/io/parsers.pyc\u001b[0m in \u001b[0;36mparser_f\u001b[1;34m(filepath_or_buffer, sep, dialect, compression, doublequote, escapechar, quotechar, quoting, skipinitialspace, lineterminator, header, index_col, names, prefix, skiprows, skipfooter, skip_footer, na_values, na_fvalues, true_values, false_values, delimiter, converters, dtype, usecols, engine, delim_whitespace, as_recarray, na_filter, compact_ints, use_unsigned, low_memory, buffer_lines, warn_bad_lines, error_bad_lines, keep_default_na, thousands, comment, decimal, parse_dates, keep_date_col, dayfirst, date_parser, memory_map, nrows, iterator, chunksize, verbose, encoding, squeeze, mangle_dupe_cols, tupleize_cols, infer_datetime_format)\u001b[0m\n\u001b[0;32m    418\u001b[0m                     infer_datetime_format=infer_datetime_format)\n\u001b[0;32m    419\u001b[0m \u001b[1;33m\u001b[0m\u001b[0m\n\u001b[1;32m--> 420\u001b[1;33m         \u001b[1;32mreturn\u001b[0m \u001b[0m_read\u001b[0m\u001b[1;33m(\u001b[0m\u001b[0mfilepath_or_buffer\u001b[0m\u001b[1;33m,\u001b[0m \u001b[0mkwds\u001b[0m\u001b[1;33m)\u001b[0m\u001b[1;33m\u001b[0m\u001b[0m\n\u001b[0m\u001b[0;32m    421\u001b[0m \u001b[1;33m\u001b[0m\u001b[0m\n\u001b[0;32m    422\u001b[0m     \u001b[0mparser_f\u001b[0m\u001b[1;33m.\u001b[0m\u001b[0m__name__\u001b[0m \u001b[1;33m=\u001b[0m \u001b[0mname\u001b[0m\u001b[1;33m\u001b[0m\u001b[0m\n",
        "\u001b[1;32m/home/uguen/anaconda/lib/python2.7/site-packages/pandas/io/parsers.pyc\u001b[0m in \u001b[0;36m_read\u001b[1;34m(filepath_or_buffer, kwds)\u001b[0m\n\u001b[0;32m    216\u001b[0m \u001b[1;33m\u001b[0m\u001b[0m\n\u001b[0;32m    217\u001b[0m     \u001b[1;31m# Create the parser.\u001b[0m\u001b[1;33m\u001b[0m\u001b[1;33m\u001b[0m\u001b[0m\n\u001b[1;32m--> 218\u001b[1;33m     \u001b[0mparser\u001b[0m \u001b[1;33m=\u001b[0m \u001b[0mTextFileReader\u001b[0m\u001b[1;33m(\u001b[0m\u001b[0mfilepath_or_buffer\u001b[0m\u001b[1;33m,\u001b[0m \u001b[1;33m**\u001b[0m\u001b[0mkwds\u001b[0m\u001b[1;33m)\u001b[0m\u001b[1;33m\u001b[0m\u001b[0m\n\u001b[0m\u001b[0;32m    219\u001b[0m \u001b[1;33m\u001b[0m\u001b[0m\n\u001b[0;32m    220\u001b[0m     \u001b[1;32mif\u001b[0m \u001b[0mnrows\u001b[0m \u001b[1;32mis\u001b[0m \u001b[1;32mnot\u001b[0m \u001b[0mNone\u001b[0m\u001b[1;33m:\u001b[0m\u001b[1;33m\u001b[0m\u001b[0m\n",
        "\u001b[1;32m/home/uguen/anaconda/lib/python2.7/site-packages/pandas/io/parsers.pyc\u001b[0m in \u001b[0;36m__init__\u001b[1;34m(self, f, engine, **kwds)\u001b[0m\n\u001b[0;32m    500\u001b[0m             \u001b[0mself\u001b[0m\u001b[1;33m.\u001b[0m\u001b[0moptions\u001b[0m\u001b[1;33m[\u001b[0m\u001b[1;34m'has_index_names'\u001b[0m\u001b[1;33m]\u001b[0m \u001b[1;33m=\u001b[0m \u001b[0mkwds\u001b[0m\u001b[1;33m[\u001b[0m\u001b[1;34m'has_index_names'\u001b[0m\u001b[1;33m]\u001b[0m\u001b[1;33m\u001b[0m\u001b[0m\n\u001b[0;32m    501\u001b[0m \u001b[1;33m\u001b[0m\u001b[0m\n\u001b[1;32m--> 502\u001b[1;33m         \u001b[0mself\u001b[0m\u001b[1;33m.\u001b[0m\u001b[0m_make_engine\u001b[0m\u001b[1;33m(\u001b[0m\u001b[0mself\u001b[0m\u001b[1;33m.\u001b[0m\u001b[0mengine\u001b[0m\u001b[1;33m)\u001b[0m\u001b[1;33m\u001b[0m\u001b[0m\n\u001b[0m\u001b[0;32m    503\u001b[0m \u001b[1;33m\u001b[0m\u001b[0m\n\u001b[0;32m    504\u001b[0m     \u001b[1;32mdef\u001b[0m \u001b[0m_get_options_with_defaults\u001b[0m\u001b[1;33m(\u001b[0m\u001b[0mself\u001b[0m\u001b[1;33m,\u001b[0m \u001b[0mengine\u001b[0m\u001b[1;33m)\u001b[0m\u001b[1;33m:\u001b[0m\u001b[1;33m\u001b[0m\u001b[0m\n",
        "\u001b[1;32m/home/uguen/anaconda/lib/python2.7/site-packages/pandas/io/parsers.pyc\u001b[0m in \u001b[0;36m_make_engine\u001b[1;34m(self, engine)\u001b[0m\n\u001b[0;32m    608\u001b[0m     \u001b[1;32mdef\u001b[0m \u001b[0m_make_engine\u001b[0m\u001b[1;33m(\u001b[0m\u001b[0mself\u001b[0m\u001b[1;33m,\u001b[0m \u001b[0mengine\u001b[0m\u001b[1;33m=\u001b[0m\u001b[1;34m'c'\u001b[0m\u001b[1;33m)\u001b[0m\u001b[1;33m:\u001b[0m\u001b[1;33m\u001b[0m\u001b[0m\n\u001b[0;32m    609\u001b[0m         \u001b[1;32mif\u001b[0m \u001b[0mengine\u001b[0m \u001b[1;33m==\u001b[0m \u001b[1;34m'c'\u001b[0m\u001b[1;33m:\u001b[0m\u001b[1;33m\u001b[0m\u001b[0m\n\u001b[1;32m--> 610\u001b[1;33m             \u001b[0mself\u001b[0m\u001b[1;33m.\u001b[0m\u001b[0m_engine\u001b[0m \u001b[1;33m=\u001b[0m \u001b[0mCParserWrapper\u001b[0m\u001b[1;33m(\u001b[0m\u001b[0mself\u001b[0m\u001b[1;33m.\u001b[0m\u001b[0mf\u001b[0m\u001b[1;33m,\u001b[0m \u001b[1;33m**\u001b[0m\u001b[0mself\u001b[0m\u001b[1;33m.\u001b[0m\u001b[0moptions\u001b[0m\u001b[1;33m)\u001b[0m\u001b[1;33m\u001b[0m\u001b[0m\n\u001b[0m\u001b[0;32m    611\u001b[0m         \u001b[1;32melse\u001b[0m\u001b[1;33m:\u001b[0m\u001b[1;33m\u001b[0m\u001b[0m\n\u001b[0;32m    612\u001b[0m             \u001b[1;32mif\u001b[0m \u001b[0mengine\u001b[0m \u001b[1;33m==\u001b[0m \u001b[1;34m'python'\u001b[0m\u001b[1;33m:\u001b[0m\u001b[1;33m\u001b[0m\u001b[0m\n",
        "\u001b[1;32m/home/uguen/anaconda/lib/python2.7/site-packages/pandas/io/parsers.pyc\u001b[0m in \u001b[0;36m__init__\u001b[1;34m(self, src, **kwds)\u001b[0m\n\u001b[0;32m    970\u001b[0m         \u001b[0mkwds\u001b[0m\u001b[1;33m[\u001b[0m\u001b[1;34m'allow_leading_cols'\u001b[0m\u001b[1;33m]\u001b[0m \u001b[1;33m=\u001b[0m \u001b[0mself\u001b[0m\u001b[1;33m.\u001b[0m\u001b[0mindex_col\u001b[0m \u001b[1;32mis\u001b[0m \u001b[1;32mnot\u001b[0m \u001b[0mFalse\u001b[0m\u001b[1;33m\u001b[0m\u001b[0m\n\u001b[0;32m    971\u001b[0m \u001b[1;33m\u001b[0m\u001b[0m\n\u001b[1;32m--> 972\u001b[1;33m         \u001b[0mself\u001b[0m\u001b[1;33m.\u001b[0m\u001b[0m_reader\u001b[0m \u001b[1;33m=\u001b[0m \u001b[0m_parser\u001b[0m\u001b[1;33m.\u001b[0m\u001b[0mTextReader\u001b[0m\u001b[1;33m(\u001b[0m\u001b[0msrc\u001b[0m\u001b[1;33m,\u001b[0m \u001b[1;33m**\u001b[0m\u001b[0mkwds\u001b[0m\u001b[1;33m)\u001b[0m\u001b[1;33m\u001b[0m\u001b[0m\n\u001b[0m\u001b[0;32m    973\u001b[0m \u001b[1;33m\u001b[0m\u001b[0m\n\u001b[0;32m    974\u001b[0m         \u001b[1;31m# XXX\u001b[0m\u001b[1;33m\u001b[0m\u001b[1;33m\u001b[0m\u001b[0m\n",
        "\u001b[1;32m/home/uguen/anaconda/lib/python2.7/site-packages/pandas/parser.so\u001b[0m in \u001b[0;36mpandas.parser.TextReader.__cinit__ (pandas/parser.c:3200)\u001b[1;34m()\u001b[0m\n",
        "\u001b[1;32m/home/uguen/anaconda/lib/python2.7/site-packages/pandas/parser.so\u001b[0m in \u001b[0;36mpandas.parser.TextReader._setup_parser_source (pandas/parser.c:5559)\u001b[1;34m()\u001b[0m\n",
        "\u001b[1;31mIOError\u001b[0m: File /home/uguen/Bureau/P1/netsave/pos.csv does not exist"
       ]
      }
     ],
     "prompt_number": 5
    },
    {
     "cell_type": "code",
     "collapsed": false,
     "input": [
      "John = Body('John.ini')\n",
      "Alex = Body('Alex.ini')\n"
     ],
     "language": "python",
     "metadata": {},
     "outputs": []
    },
    {
     "cell_type": "code",
     "collapsed": false,
     "input": [
      "tr0 = lt[0]\n",
      "tr1 = lt[1]\n",
      "John.settopos(traj=tr0,t=0.3,cs=True)\n",
      "Alex.settopos(traj=tr1,t=0.3,cs=True)\n",
      "dperson = {'John':John,\n",
      "           'Alex':Alex}"
     ],
     "language": "python",
     "metadata": {},
     "outputs": []
    },
    {
     "cell_type": "code",
     "collapsed": false,
     "input": [
      "John.show(color='b')"
     ],
     "language": "python",
     "metadata": {},
     "outputs": []
    },
    {
     "cell_type": "code",
     "collapsed": false,
     "input": [
      "John.dev"
     ],
     "language": "python",
     "metadata": {},
     "outputs": [
      {
       "metadata": {},
       "output_type": "pyout",
       "prompt_number": 8,
       "text": [
        "{'back': {'T': array([[1, 0, 0],\n",
        "         [0, 1, 0],\n",
        "         [0, 0, 1]]),\n",
        "  'a': 180,\n",
        "  'cyl': 0,\n",
        "  'file': 'defant.vsh3',\n",
        "  'h': 0.0,\n",
        "  'l': 0.0,\n",
        "  'typ': 'static'},\n",
        " 'chest': {'T': array([[0, 0, 1],\n",
        "         [1, 0, 0],\n",
        "         [0, 1, 0]]),\n",
        "  'a': 0,\n",
        "  'cyl': 0,\n",
        "  'file': 'defant.vsh3',\n",
        "  'h': 0.0,\n",
        "  'l': 0.0,\n",
        "  'typ': 'static'}}"
       ]
      }
     ],
     "prompt_number": 8
    },
    {
     "cell_type": "code",
     "collapsed": false,
     "input": [
      "bB2B = True\n",
      "bOB  = True\n",
      "bB2I = False\n",
      "#lAP = ['AP1']\n",
      "#lperson = [John,Alex]\n",
      "lAP = ['AP1']\n",
      "lperson = [Alex]\n",
      "llink = []\n",
      "for person in lperson:\n",
      "    print person.name\n",
      "    if bOB:\n",
      "        for dev1 in person.dev:\n",
      "            #print dev1 \n",
      "            if person.dev[dev1]['typ']=='mobile':\n",
      "                for dev2 in person.dev:\n",
      "                    if dev2<> dev1:\n",
      "                        llink.append(((person.name,dev1),(person.name,dev2)))\n",
      "            #devpt = person.dcs[dev][:,0]\n",
      "            #print devpt\n",
      "    if bB2I: \n",
      "        for ap in lAP:\n",
      "        # may be criteria on distance between person and AP\n",
      "            for dev in person.dev:\n",
      "                #if person.dev[dev1]['infra']:\n",
      "                # in the future port would be an antenna port for MIMO AP\n",
      "                llink.append(((ap,'port'),(person.name,dev)))\n",
      "\n",
      "    if bB2B:\n",
      "        for dev1 in person.dev:\n",
      "            #if person.dev[dev1]['tobody']:\n",
      "            for alter in lperson:\n",
      "                if alter.name<>person.name:\n",
      "                    for dev2 in alter.dev:\n",
      "                         #if alter.dev[dev2]['tobody']:\n",
      "                         llink.append(((person.name,dev1),(alter.name,dev2)))\n",
      "                \n",
      "for l in llink:\n",
      "    print l\n",
      "    \n",
      "print len(llink)    "
     ],
     "language": "python",
     "metadata": {},
     "outputs": [
      {
       "output_type": "stream",
       "stream": "stdout",
       "text": [
        "Alex\n",
        "(('Alex', 'right_watch'), ('Alex', 'glass'))\n",
        "(('Alex', 'right_watch'), ('Alex', 'front_chest'))\n",
        "(('Alex', 'right_watch'), ('Alex', 'accelerometer'))\n",
        "(('Alex', 'right_watch'), ('Alex', 'back_chest'))\n",
        "(('Alex', 'glass'), ('Alex', 'right_watch'))\n",
        "(('Alex', 'glass'), ('Alex', 'front_chest'))\n",
        "(('Alex', 'glass'), ('Alex', 'accelerometer'))\n",
        "(('Alex', 'glass'), ('Alex', 'back_chest'))\n",
        "8\n"
       ]
      }
     ],
     "prompt_number": 35
    },
    {
     "cell_type": "code",
     "collapsed": false,
     "input": [
      "for link in llink: \n",
      "    A = link[0]\n",
      "    B = link[1]\n",
      "    pA = dperson[A[0]].dcs[A[1]][:,0]\n",
      "    TA = dperson[A[0]].acs[A[1]]\n",
      "    pB = dperson[B[0]].dcs[B[1]][:,0]\n",
      "    TB = dperson[B[0]].acs[B[1]]\n",
      "    print pA,pB\n",
      "    print TA\n",
      "    print TB\n",
      "    print '--'"
     ],
     "language": "python",
     "metadata": {},
     "outputs": [
      {
       "output_type": "stream",
       "stream": "stdout",
       "text": [
        "[ 29.43814144  12.22164921   0.85527274] [ 29.6970667   12.12684128   1.54180839]\n",
        "[[ 0.19650133  0.96208582  0.18915098]\n",
        " [-0.98003613  0.18676236  0.06818356]\n",
        " [ 0.03027215 -0.19877296  0.97957792]]\n",
        "[[ 0.17249715  0.87616312 -0.45009213]\n",
        " [-0.98434798  0.17008284 -0.04616145]\n",
        " [ 0.03610799  0.45101     0.8917882 ]]\n",
        "--\n",
        "[ 29.43814144  12.22164921   0.85527274] [ 29.80120149  12.03541356   1.30623282]\n",
        "[[ 0.19650133  0.96208582  0.18915098]\n",
        " [-0.98003613  0.18676236  0.06818356]\n",
        " [ 0.03027215 -0.19877296  0.97957792]]\n",
        "[[ 0.14942599  0.97798182 -0.14568261]\n",
        " [-0.92689881  0.18984813  0.32375344]\n",
        " [ 0.34428255  0.08665586  0.93485843]]\n",
        "--\n",
        "[ 29.43814144  12.22164921   0.85527274] [ 29.90888024  12.12945048   0.93858889]\n",
        "[[ 0.19650133  0.96208582  0.18915098]\n",
        " [-0.98003613  0.18676236  0.06818356]\n",
        " [ 0.03027215 -0.19877296  0.97957792]]\n",
        "[[ 0.82520412  0.56209296  0.05558474]\n",
        " [-0.55671399  0.82601937 -0.08809957]\n",
        " [-0.09543422  0.04175533  0.9945596 ]]\n",
        "--\n",
        "[ 29.43814144  12.22164921   0.85527274] [ 29.74441961  12.38763511   1.17540545]\n",
        "[[ 0.19650133  0.96208582  0.18915098]\n",
        " [-0.98003613  0.18676236  0.06818356]\n",
        " [ 0.03027215 -0.19877296  0.97957792]]\n",
        "[[-0.14942599 -0.97798182 -0.14568261]\n",
        " [ 0.92689881 -0.18984813  0.32375344]\n",
        " [-0.34428255 -0.08665586  0.93485843]]\n",
        "--\n",
        "[ 29.6970667   12.12684128   1.54180839] [ 29.43814144  12.22164921   0.85527274]\n",
        "[[ 0.17249715  0.87616312 -0.45009213]\n",
        " [-0.98434798  0.17008284 -0.04616145]\n",
        " [ 0.03610799  0.45101     0.8917882 ]]\n",
        "[[ 0.19650133  0.96208582  0.18915098]\n",
        " [-0.98003613  0.18676236  0.06818356]\n",
        " [ 0.03027215 -0.19877296  0.97957792]]\n",
        "--\n",
        "[ 29.6970667   12.12684128   1.54180839] [ 29.80120149  12.03541356   1.30623282]\n",
        "[[ 0.17249715  0.87616312 -0.45009213]\n",
        " [-0.98434798  0.17008284 -0.04616145]\n",
        " [ 0.03610799  0.45101     0.8917882 ]]\n",
        "[[ 0.14942599  0.97798182 -0.14568261]\n",
        " [-0.92689881  0.18984813  0.32375344]\n",
        " [ 0.34428255  0.08665586  0.93485843]]\n",
        "--\n",
        "[ 29.6970667   12.12684128   1.54180839] [ 29.90888024  12.12945048   0.93858889]\n",
        "[[ 0.17249715  0.87616312 -0.45009213]\n",
        " [-0.98434798  0.17008284 -0.04616145]\n",
        " [ 0.03610799  0.45101     0.8917882 ]]\n",
        "[[ 0.82520412  0.56209296  0.05558474]\n",
        " [-0.55671399  0.82601937 -0.08809957]\n",
        " [-0.09543422  0.04175533  0.9945596 ]]\n",
        "--\n",
        "[ 29.6970667   12.12684128   1.54180839] [ 29.74441961  12.38763511   1.17540545]\n",
        "[[ 0.17249715  0.87616312 -0.45009213]\n",
        " [-0.98434798  0.17008284 -0.04616145]\n",
        " [ 0.03610799  0.45101     0.8917882 ]]\n",
        "[[-0.14942599 -0.97798182 -0.14568261]\n",
        " [ 0.92689881 -0.18984813  0.32375344]\n",
        " [-0.34428255 -0.08665586  0.93485843]]\n",
        "--\n"
       ]
      }
     ],
     "prompt_number": 39
    },
    {
     "cell_type": "code",
     "collapsed": false,
     "input": [
      "John"
     ],
     "language": "python",
     "metadata": {},
     "outputs": []
    }
   ],
   "metadata": {}
  }
 ]
}