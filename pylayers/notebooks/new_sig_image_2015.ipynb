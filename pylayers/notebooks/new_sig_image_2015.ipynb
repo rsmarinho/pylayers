{
 "metadata": {
  "name": "",
  "signature": "sha256:85036cbde9fd84eb98279e0c8d1020525423c6cc550bb180d6308944dae1c800"
 },
 "nbformat": 3,
 "nbformat_minor": 0,
 "worksheets": [
  {
   "cells": [
    {
     "cell_type": "code",
     "collapsed": false,
     "input": [
      "from pylayers.simul.link import *"
     ],
     "language": "python",
     "metadata": {},
     "outputs": [
      {
       "output_type": "stream",
       "stream": "stderr",
       "text": [
        "WARNING:traits.has_traits:DEPRECATED: traits.has_traits.wrapped_class, 'the 'implements' class advisor has been deprecated. Use the 'provides' class decorator.\n"
       ]
      }
     ],
     "prompt_number": 1
    },
    {
     "cell_type": "code",
     "collapsed": false,
     "input": [
      "DL=DLink(L=Layout('TA-Office.ini'))\n",
      "DL.cutoff=4\n",
      "tmp=DL.eval()\n",
      "S = DL.Si\n",
      "L = DL.L\n",
      "tx=DL.a[:2]"
     ],
     "language": "python",
     "metadata": {},
     "outputs": [
      {
       "output_type": "stream",
       "stream": "stdout",
       "text": [
        "Signatures'> from 1_1_4 loaded\n",
        "Rays'> from 4_35_35 loaded\n",
        "Ctilde'> from 35_35_0 loaded\n",
        "Tchannel'> from 35_35_0_0_0_0_0 loaded\n"
       ]
      }
     ],
     "prompt_number": 2
    },
    {
     "cell_type": "code",
     "collapsed": false,
     "input": [
      "ninter = 4"
     ],
     "language": "python",
     "metadata": {},
     "outputs": [],
     "prompt_number": 3
    },
    {
     "cell_type": "code",
     "collapsed": false,
     "input": [
      "#\u00a0get segment ids of signature with 4 interactions\n",
      "seg4 = S[ninter][::2]\n",
      "nsig = len(seg4)\n",
      "# determine positions of points limiting the semgments \n",
      "#\u00a01 get index in L.tahe\n",
      "# 2 get associated position in L.pt\n",
      "\n",
      "#\u00a0utahe (2 pt indexes,nb_signatures,nb_interactions)\n",
      "utahe = L.tahe[:,seg4-1]\n",
      "\n",
      "# pt : (xycoord (2),pt indexes (2),nb_signatures,nb_interactions)\n",
      "\n",
      "pt = L.pt[:,utahe]\n",
      "\n",
      "#shape =\n",
      "# 0 : (x,y) coordinates x=0,y=1\n",
      "# 1 : 2 points (linking the semgnet) a=0,b=1\n",
      "#\u00a02 : nb of found signatures/segments\n",
      "# 3 : nb interaction"
     ],
     "language": "python",
     "metadata": {},
     "outputs": [],
     "prompt_number": 4
    },
    {
     "cell_type": "markdown",
     "metadata": {},
     "source": [
      "compute values of matrices Kl and/or vl"
     ]
    },
    {
     "cell_type": "code",
     "collapsed": false,
     "input": [
      "pt.shape"
     ],
     "language": "python",
     "metadata": {},
     "outputs": [
      {
       "metadata": {},
       "output_type": "pyout",
       "prompt_number": 5,
       "text": [
        "(2, 2, 947, 4)"
       ]
      }
     ],
     "prompt_number": 5
    },
    {
     "cell_type": "code",
     "collapsed": false,
     "input": [
      "a = ((pt[0,0,:,:]-pt[0,1,:,:])**2-(pt[1,0,:,:]-pt[1,1,:,:])**2)\n",
      "den = ((pt[0,0,:,:]-pt[0,1,:,:])**2+(pt[1,0,:,:]-pt[1,1,:,:])**2)\n",
      "a=a/(1.*den)\n",
      "\n",
      "\n",
      "b = 2*(pt[0,1,:,:]-pt[0,0,:,:])*(pt[1,1,:,:]-pt[1,0,:,:])\n",
      "b=b/(1.*den)\n",
      "\n",
      "\n",
      "c= 2*(pt[0,0,:,:]*(pt[1,0,:,:]-pt[1,1,:,:])**2+pt[1,0,:,:]*(pt[0,1,:,:]-pt[0,0,:,:])*(pt[1,0,:,:]-pt[1,1,:,:]))\n",
      "c = c/(1.*den)\n",
      "\n",
      "\n",
      "d= 2*(pt[0,0,:,:]*(pt[1,0,:,:]-pt[1,1,:,:])*(pt[0,1,:,:]-pt[0,0,:,:])+pt[1,0,:,:]*(pt[0,1,:,:]-pt[0,0,:,:])**2)\n",
      "d= d/(1.*den)\n"
     ],
     "language": "python",
     "metadata": {},
     "outputs": [],
     "prompt_number": 6
    },
    {
     "cell_type": "code",
     "collapsed": false,
     "input": [
      "#\u00a0get segment ids of signature with 4 interactions\n",
      "ityp4 = S[ninter][1::2]"
     ],
     "language": "python",
     "metadata": {},
     "outputs": [],
     "prompt_number": 7
    },
    {
     "cell_type": "markdown",
     "metadata": {},
     "source": [
      "Get index where signatures are Transmission,Reflexion or Diffraction"
     ]
    },
    {
     "cell_type": "code",
     "collapsed": false,
     "input": [
      "uT = np.where(ityp4[:,1:]==3)\n",
      "uR = np.where(ityp4[:,1:]==2)\n",
      "uD=np.where(ityp4[:,1:]==1)\n",
      "print uR"
     ],
     "language": "python",
     "metadata": {},
     "outputs": [
      {
       "output_type": "stream",
       "stream": "stdout",
       "text": [
        "(array([  0,   0,   0, ..., 945, 946, 946]), array([0, 1, 2, ..., 1, 0, 1]))\n"
       ]
      }
     ],
     "prompt_number": 8
    },
    {
     "cell_type": "code",
     "collapsed": false,
     "input": [
      "#\u00a0big matrice for LS : A (2*nb_inter , 2*nb_inter ,  nb signatures )"
     ],
     "language": "python",
     "metadata": {},
     "outputs": [],
     "prompt_number": 9
    },
    {
     "cell_type": "code",
     "collapsed": false,
     "input": [
      "ityp4.shape"
     ],
     "language": "python",
     "metadata": {},
     "outputs": [
      {
       "metadata": {},
       "output_type": "pyout",
       "prompt_number": 10,
       "text": [
        "(947, 4)"
       ]
      }
     ],
     "prompt_number": 10
    },
    {
     "cell_type": "code",
     "collapsed": false,
     "input": [
      "AM = np.eye(2*ninter)[:,:,np.newaxis]*np.ones(nsig)\n",
      "print AM.shape"
     ],
     "language": "python",
     "metadata": {},
     "outputs": [
      {
       "output_type": "stream",
       "stream": "stdout",
       "text": [
        "(8, 8, 947)\n"
       ]
      }
     ],
     "prompt_number": 11
    },
    {
     "cell_type": "markdown",
     "metadata": {},
     "source": [
      "Reflexion MAtrix K and translation vector v (p33 thesis) \n"
     ]
    },
    {
     "cell_type": "code",
     "collapsed": false,
     "input": [
      "# Reflexion matrix\n",
      "K=np.array([[a,-b],[-b,-a]])\n",
      "K.shape\n",
      "#translation\n",
      "v =np.array(([c,d]))\n",
      "print K.shape\n",
      "print v.shape"
     ],
     "language": "python",
     "metadata": {},
     "outputs": [
      {
       "output_type": "stream",
       "stream": "stdout",
       "text": [
        "(2, 2, 947, 4)\n",
        "(2, 947, 4)\n"
       ]
      }
     ],
     "prompt_number": 12
    },
    {
     "cell_type": "code",
     "collapsed": false,
     "input": [
      "import pylayers.util.pyutil as pyu\n",
      "blocks=np.zeros((2,2,nsig,ninter-1))\n",
      "\n",
      "# Reflexion block\n",
      "blocks[:,:,uR[0],uR[1]]=-K[:,:,uR[0],uR[1]+1]\n",
      "# Transmission block\n",
      "blocks[:,:,uT[0],uT[1]]=-np.eye(2)[:,:,np.newaxis]*np.ones((len(uT[0])))\n",
      "# Diff block\n",
      "blocks[:,:,uT[0],uT[1]]=0.\n",
      "\n",
      "A=pyu.fill_block_diagMDA(AM,blocks,2,-1)"
     ],
     "language": "python",
     "metadata": {},
     "outputs": [],
     "prompt_number": 13
    },
    {
     "cell_type": "code",
     "collapsed": false,
     "input": [
      "A[:,:,0]"
     ],
     "language": "python",
     "metadata": {},
     "outputs": [
      {
       "metadata": {},
       "output_type": "pyout",
       "prompt_number": 14,
       "text": [
        "array([[ 1.,  0.,  0.,  0.,  0.,  0.,  0.,  0.],\n",
        "       [ 0.,  1.,  0.,  0.,  0.,  0.,  0.,  0.],\n",
        "       [-1.,  0.,  1.,  0.,  0.,  0.,  0.,  0.],\n",
        "       [ 0.,  1.,  0.,  1.,  0.,  0.,  0.,  0.],\n",
        "       [ 0.,  0.,  1., -0.,  1.,  0.,  0.,  0.],\n",
        "       [ 0.,  0., -0., -1.,  0.,  1.,  0.,  0.],\n",
        "       [ 0.,  0.,  0.,  0., -1., -0.,  1.,  0.],\n",
        "       [ 0.,  0.,  0.,  0., -0.,  1.,  0.,  1.]])"
       ]
      }
     ],
     "prompt_number": 14
    },
    {
     "cell_type": "markdown",
     "metadata": {},
     "source": [
      "The 2nd member y is firslty completly fill, without taking into account that the 1st line differst from others.\n",
      "\n",
      "1. find which interaction and signature are R|T|D => create a masked array\n",
      "2. repeat is created because to each signature/interaction correspond a 2x1 column. Repeat allow to have the correct size to fill y\n",
      "3. fill the 1st line of y to take into consideration that difference.\n"
     ]
    },
    {
     "cell_type": "code",
     "collapsed": false,
     "input": [
      "y = np.zeros((2 * ninter,nsig))\n",
      "print y.shape\n"
     ],
     "language": "python",
     "metadata": {},
     "outputs": [
      {
       "output_type": "stream",
       "stream": "stdout",
       "text": [
        "(8, 947)\n"
       ]
      }
     ],
     "prompt_number": 232
    },
    {
     "cell_type": "code",
     "collapsed": false,
     "input": [
      "#\u00a0find the position where there is T|R|D. non continuous => need mask array\n",
      "uTf = np.where(ityp4==3)\n",
      "uRf = np.where(ityp4==2)\n",
      "uDf =np.where(ityp4==1)\n"
     ],
     "language": "python",
     "metadata": {},
     "outputs": [],
     "prompt_number": 233
    },
    {
     "cell_type": "code",
     "collapsed": false,
     "input": [
      "uRy2=np.repeat(uRf[0],2)\n",
      "uRy1=np.repeat(uRf[1],2)\n",
      "uRy1=2*uRy1\n",
      "uRy1[1::2]=uRy1[::2]+1\n"
     ],
     "language": "python",
     "metadata": {},
     "outputs": [],
     "prompt_number": 238
    },
    {
     "cell_type": "code",
     "collapsed": false,
     "input": [],
     "language": "python",
     "metadata": {},
     "outputs": [],
     "prompt_number": 242
    },
    {
     "cell_type": "code",
     "collapsed": false,
     "input": [
      "#\u00a0postiion in signature => 2 lines in y . need to repeat to get the correct size\n",
      "\n",
      "\n",
      "try:\n",
      "    y[uRy1,uRy2]=v[:,uRf[0],uRf[1]].ravel(order='F')\n",
      "except: \n",
      "    print 'no R'\n",
      "    \n",
      "try:\n",
      "    uT1mr = np.repeat(uT1m.mask,2,axis=1).T\n",
      "    #\u00a0nothing to do. shoould be a zero vecotr , already initialized by y\n",
      "except:\n",
      "    print 'no T'\n",
      "\n",
      "\n",
      "try:\n",
      "    uD1mr = np.repeat(uD1m.mask,2,axis=1).T\n",
      "    y[uD1mr]=a[uD1]\n",
      "except:\n",
      "    print 'no D'\n",
      "    "
     ],
     "language": "python",
     "metadata": {},
     "outputs": [
      {
       "output_type": "stream",
       "stream": "stdout",
       "text": [
        "no D\n"
       ]
      }
     ],
     "prompt_number": 243
    },
    {
     "cell_type": "code",
     "collapsed": false,
     "input": [
      "y[:,0]"
     ],
     "language": "python",
     "metadata": {},
     "outputs": [
      {
       "metadata": {},
       "output_type": "pyout",
       "prompt_number": 244,
       "text": [
        "array([  0.  ,   9.99,   0.  ,   0.  ,  43.2 ,   0.  ,   0.  ,   9.99])"
       ]
      }
     ],
     "prompt_number": 244
    },
    {
     "cell_type": "code",
     "collapsed": false,
     "input": [
      "#FIRST LINE PROCESSING\n",
      "\n",
      "\n",
      "uT0 = np.where(ityp4[:,0]==3)[0]\n",
      "uR0 = np.where(ityp4[:,0]==2)[0]\n",
      "uD0 =np.where(ityp4[:,0]==1)[0]\n",
      "\n",
      "#\u00a0reflexion 0\n",
      "r0 = np.einsum('ijk,j->jk',K[:,:,uR0,0],tx)+v[:,uR0,0]\n",
      "#\u00a0trnasmission 0\n",
      "t0 = tx[:,np.newaxis]*np.ones(len(uT0))\n",
      "#\u00a0diff 0\n",
      "d0 = a[uD0,0]\n",
      "\n",
      "\n",
      "#\u00a0first line\n",
      "y[0:2,uR0]=r0\n",
      "y[0:2,uT0]=t0\n",
      "y[0:2,uD0]=d0\n"
     ],
     "language": "python",
     "metadata": {},
     "outputs": [],
     "prompt_number": 245
    },
    {
     "cell_type": "code",
     "collapsed": false,
     "input": [
      "y[:,0]"
     ],
     "language": "python",
     "metadata": {},
     "outputs": [
      {
       "metadata": {},
       "output_type": "pyout",
       "prompt_number": 246,
       "text": [
        "array([ 18.9   ,   7.4925,   0.    ,   0.    ,  43.2   ,   0.    ,\n",
        "         0.    ,   9.99  ])"
       ]
      }
     ],
     "prompt_number": 246
    },
    {
     "cell_type": "code",
     "collapsed": false,
     "input": [
      "A=np.rollaxis(A,-1)\n",
      "y=np.rollaxis(y,-1)\n",
      "print A.shape\n",
      "print y.shape\n"
     ],
     "language": "python",
     "metadata": {},
     "outputs": [
      {
       "output_type": "stream",
       "stream": "stdout",
       "text": [
        "(947, 8, 8)\n",
        "(947, 8)\n"
       ]
      }
     ],
     "prompt_number": 247
    },
    {
     "cell_type": "code",
     "collapsed": false,
     "input": [
      "y[0]\n"
     ],
     "language": "python",
     "metadata": {},
     "outputs": [
      {
       "metadata": {},
       "output_type": "pyout",
       "prompt_number": 248,
       "text": [
        "array([ 18.9   ,   7.4925,   0.    ,   0.    ,  43.2   ,   0.    ,\n",
        "         0.    ,   9.99  ])"
       ]
      }
     ],
     "prompt_number": 248
    },
    {
     "cell_type": "code",
     "collapsed": false,
     "input": [
      "m=np.linalg.solve(A, y)\n",
      "M=np.array((m[:,0::2],m[:,1::2]))"
     ],
     "language": "python",
     "metadata": {},
     "outputs": [],
     "prompt_number": 249
    },
    {
     "cell_type": "code",
     "collapsed": false,
     "input": [
      "\n",
      "# Test implemented function"
     ],
     "language": "python",
     "metadata": {},
     "outputs": [],
     "prompt_number": 250
    },
    {
     "cell_type": "code",
     "collapsed": false,
     "input": [
      "pt[:,1,1,:]"
     ],
     "language": "python",
     "metadata": {},
     "outputs": [
      {
       "metadata": {},
       "output_type": "pyout",
       "prompt_number": 254,
       "text": [
        "array([[ 18.848,  21.6  ,  16.2  ,  18.848],\n",
        "       [  4.995,   0.   ,   4.995,   4.995]])"
       ]
      }
     ],
     "prompt_number": 254
    },
    {
     "cell_type": "code",
     "collapsed": false,
     "input": [
      "d[1]\n"
     ],
     "language": "python",
     "metadata": {},
     "outputs": [
      {
       "metadata": {},
       "output_type": "pyout",
       "prompt_number": 265,
       "text": [
        "array([ 9.99,  0.  ,  0.  ,  9.99])"
       ]
      }
     ],
     "prompt_number": 265
    },
    {
     "cell_type": "code",
     "collapsed": false,
     "input": [
      "y[1]\n",
      "\n"
     ],
     "language": "python",
     "metadata": {},
     "outputs": [
      {
       "metadata": {},
       "output_type": "pyout",
       "prompt_number": 269,
       "text": [
        "array([ 18.9   ,   7.4925,   0.    ,   0.    ,  32.4   ,   0.    ,\n",
        "         0.    ,   9.99  ])"
       ]
      }
     ],
     "prompt_number": 269
    },
    {
     "cell_type": "code",
     "collapsed": false,
     "input": [
      "M[:,1]"
     ],
     "language": "python",
     "metadata": {},
     "outputs": [
      {
       "metadata": {},
       "output_type": "pyout",
       "prompt_number": 271,
       "text": [
        "array([[ 18.9   ,  18.9   ,  13.5   ,  13.5   ],\n",
        "       [  7.4925,  -7.4925,  -7.4925,  17.4825]])"
       ]
      }
     ],
     "prompt_number": 271
    },
    {
     "cell_type": "code",
     "collapsed": false,
     "input": [],
     "language": "python",
     "metadata": {},
     "outputs": []
    }
   ],
   "metadata": {}
  }
 ]
}